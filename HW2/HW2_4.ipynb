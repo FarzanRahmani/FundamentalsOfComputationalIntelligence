{
  "cells": [
    {
      "cell_type": "markdown",
      "metadata": {
        "id": "mqg4KSj_8Nz1"
      },
      "source": [
        "# In this notebook, we run an MLP model on dataset hoda and examine the results in terms of underfitting, fitting and overfitting."
      ]
    },
    {
      "cell_type": "markdown",
      "metadata": {
        "id": "IVk_5eoO76sj"
      },
      "source": [
        "## Download dataset"
      ]
    },
    {
      "cell_type": "code",
      "execution_count": 1,
      "metadata": {
        "colab": {
          "base_uri": "https://localhost:8080/"
        },
        "id": "TjoQGt01Ujx1",
        "outputId": "792cace3-2aeb-4f2b-f641-c6fb71be623c"
      },
      "outputs": [
        {
          "name": "stdout",
          "output_type": "stream",
          "text": [
            "Downloading...\n",
            "From: https://drive.google.com/uc?id=1QJrQsEYOfPBn1LoIeYMZ2HFBRC0AY-6F\n",
            "To: /content/dataset.py\n",
            "100% 909/909 [00:00<00:00, 2.96MB/s]\n",
            "Downloading...\n",
            "From: https://drive.google.com/uc?id=1zStcaVl_34RrYIfVObuM4xzB6s8xwvBi\n",
            "To: /content/Data_hoda_full.mat\n",
            "100% 3.99M/3.99M [00:00<00:00, 233MB/s]\n"
          ]
        }
      ],
      "source": [
        "!gdown --fuzzy https://drive.google.com/file/d/1QJrQsEYOfPBn1LoIeYMZ2HFBRC0AY-6F/view?usp=sharing\n",
        "!gdown --fuzzy https://drive.google.com/file/d/1zStcaVl_34RrYIfVObuM4xzB6s8xwvBi/view?usp=sharing"
      ]
    },
    {
      "cell_type": "markdown",
      "metadata": {
        "id": "ruebTHNSBqRD"
      },
      "source": [
        "## Importing libraries"
      ]
    },
    {
      "cell_type": "code",
      "execution_count": 2,
      "metadata": {
        "id": "WhoXKRptiRDe"
      },
      "outputs": [],
      "source": [
        "import keras\n",
        "import numpy as np\n",
        "import matplotlib.pyplot as plt\n",
        "\n",
        "from keras.models import Sequential\n",
        "from keras.layers import Dense,  Activation\n",
        "from dataset import load_hoda # (persian handwritten dataset)"
      ]
    },
    {
      "cell_type": "markdown",
      "metadata": {
        "id": "ku75DKlg_f9y"
      },
      "source": [
        "# Load dataset"
      ]
    },
    {
      "cell_type": "code",
      "execution_count": 3,
      "metadata": {
        "id": "4D7VhBCKiVWl"
      },
      "outputs": [],
      "source": [
        "x_train_original, y_train_original, x_test_original, y_test_original = load_hoda()"
      ]
    },
    {
      "cell_type": "markdown",
      "metadata": {
        "id": "Wruhn4AmB5zC"
      },
      "source": [
        "### Converting x_train and x_test to ndarray array format and converting y_train and y_test to one-hot-encoding:\n",
        "####First, we have defined a simple function that prints the dimensions, data type and information of the loaded dataset. We will print this information before and after data preprocessing to notice the changes!"
      ]
    },
    {
      "cell_type": "code",
      "execution_count": 4,
      "metadata": {
        "id": "nbSZTm93iVb9"
      },
      "outputs": [],
      "source": [
        "# Preprocess input data for Keras.\n",
        "x_train = np.array(x_train_original) # Convert to numpy arrays\n",
        "y_train = keras.utils.to_categorical(y_train_original, num_classes=10) # One-hot encode the labels\n",
        "x_test = np.array(x_test_original) # Convert to numpy arrays\n",
        "y_test = keras.utils.to_categorical(y_test_original, num_classes=10) # One-hot encode the labels"
      ]
    },
    {
      "cell_type": "code",
      "execution_count": 5,
      "metadata": {
        "id": "u5Gvz63iiVZV"
      },
      "outputs": [],
      "source": [
        "def print_data_info(x_train, y_train, x_test, y_test):\n",
        "    #Check data Type\n",
        "    print (\"\\ttype(x_train): {}\".format(type(x_train)))\n",
        "    print (\"\\ttype(y_train): {}\".format(type(y_train)))\n",
        "\n",
        "    #check data Shape\n",
        "    print (\"\\tx_train.shape: {}\".format(np.shape(x_train)))\n",
        "    print (\"\\ty_train.shape: {}\".format(np.shape(y_train)))\n",
        "    print (\"\\tx_test.shape: {}\".format(np.shape(x_test)))\n",
        "    print (\"\\ty_test.shape: {}\".format(np.shape(y_test)))\n",
        "\n",
        "    #sample data\n",
        "    print (\"\\ty_train[0]: {}\".format(y_train[0]))"
      ]
    },
    {
      "cell_type": "code",
      "execution_count": 6,
      "metadata": {
        "colab": {
          "base_uri": "https://localhost:8080/"
        },
        "id": "0C5eJsmeiVe2",
        "outputId": "bf428845-1359-47bb-c252-95398d3a3e15"
      },
      "outputs": [
        {
          "name": "stdout",
          "output_type": "stream",
          "text": [
            "Before Preprocessing:\n",
            "\ttype(x_train): <class 'numpy.ndarray'>\n",
            "\ttype(y_train): <class 'numpy.ndarray'>\n",
            "\tx_train.shape: (1000, 25)\n",
            "\ty_train.shape: (1000,)\n",
            "\tx_test.shape: (200, 25)\n",
            "\ty_test.shape: (200,)\n",
            "\ty_train[0]: 6\n",
            "After Preprocessing:\n",
            "\ttype(x_train): <class 'numpy.ndarray'>\n",
            "\ttype(y_train): <class 'numpy.ndarray'>\n",
            "\tx_train.shape: (1000, 25)\n",
            "\ty_train.shape: (1000, 10)\n",
            "\tx_test.shape: (200, 25)\n",
            "\ty_test.shape: (200, 10)\n",
            "\ty_train[0]: [0. 0. 0. 0. 0. 0. 1. 0. 0. 0.]\n"
          ]
        }
      ],
      "source": [
        "print(\"Before Preprocessing:\")\n",
        "print_data_info(x_train_original, y_train_original, x_test_original, y_test_original)\n",
        "print(\"After Preprocessing:\")\n",
        "print_data_info(x_train, y_train, x_test, y_test)"
      ]
    },
    {
      "cell_type": "code",
      "execution_count": 7,
      "metadata": {
        "id": "ignnQ8cqidv_"
      },
      "outputs": [],
      "source": [
        "x_train = x_train.astype('float32')\n",
        "x_test = x_test.astype('float32')\n",
        "x_train /= 255 # Normalize inputs from [0, 255] to [0, 1]\n",
        "x_test /= 255 # Normalize inputs from [0, 255] to [0, 1]"
      ]
    },
    {
      "cell_type": "code",
      "execution_count": 8,
      "metadata": {
        "id": "cEQisVlqidyt"
      },
      "outputs": [],
      "source": [
        "# In this Create the model, input dim=25 and output dim = 10\n",
        "\n",
        "##################################\n",
        "# you code here\n",
        "# model = Sequential()\n",
        "# model.add(Dense(10, input_dim=25))\n",
        "# model.add(Activation('softmax'))\n",
        "##################################\n",
        "\n",
        "model = Sequential([\n",
        "    Dense(10, input_dim=25, name='layer1'),\n",
        "    Activation('softmax', name='softmax_activation')\n",
        "], name='hoda_model')\n",
        "\n",
        "## we used a very simple model. Use a deeper MLP or a different type of neural network, such as a CNN may get better result."
      ]
    },
    {
      "cell_type": "code",
      "execution_count": 9,
      "metadata": {
        "colab": {
          "base_uri": "https://localhost:8080/"
        },
        "id": "gk4rIwjbid3W",
        "outputId": "5d8a52ec-344d-42ab-b321-c109f97c70d0"
      },
      "outputs": [
        {
          "name": "stdout",
          "output_type": "stream",
          "text": [
            "Model: \"hoda_model\"\n",
            "_________________________________________________________________\n",
            " Layer (type)                Output Shape              Param #   \n",
            "=================================================================\n",
            " layer1 (Dense)              (None, 10)                260       \n",
            "                                                                 \n",
            " softmax_activation (Activa  (None, 10)                0         \n",
            " tion)                                                           \n",
            "                                                                 \n",
            "=================================================================\n",
            "Total params: 260 (1.02 KB)\n",
            "Trainable params: 260 (1.02 KB)\n",
            "Non-trainable params: 0 (0.00 Byte)\n",
            "_________________________________________________________________\n"
          ]
        }
      ],
      "source": [
        "model.summary() # Print a description of the model."
      ]
    },
    {
      "cell_type": "markdown",
      "metadata": {
        "id": "XVBSerPdCxnL"
      },
      "source": [
        "## Compile model"
      ]
    },
    {
      "cell_type": "code",
      "execution_count": 10,
      "metadata": {
        "id": "ZJVfanv2id52"
      },
      "outputs": [],
      "source": [
        "# In this cell compile model, set loss function and optimizer and get metrics accuracy\n",
        "\n",
        "##################################\n",
        "# you code here\n",
        "# loss='categorical_crossentropy' -> multiclass classification\n",
        "# optimizer='adam' -> adaptive moment estimation (adam) because it's faster than sgd\n",
        "model.compile(optimizer='adam', loss='categorical_crossentropy', metrics=['accuracy'])\n",
        "# model.compile(optimizer='sgd', loss='categorical_crossentropy', metrics=['accuracy'])\n",
        "##################################"
      ]
    },
    {
      "cell_type": "markdown",
      "metadata": {
        "id": "Uz92ZcWOJFFU"
      },
      "source": [
        "## Fit model"
      ]
    },
    {
      "cell_type": "code",
      "execution_count": 11,
      "metadata": {
        "colab": {
          "base_uri": "https://localhost:8080/"
        },
        "id": "ZaKtROcxinbV",
        "outputId": "6f492bf2-f0dc-4c7a-89d1-0205dfc4fee8"
      },
      "outputs": [
        {
          "name": "stdout",
          "output_type": "stream",
          "text": [
            "Epoch 1/100\n",
            "16/16 [==============================] - 6s 15ms/step - loss: 2.4657 - accuracy: 0.1610 - val_loss: 2.5583 - val_accuracy: 0.1350\n",
            "Epoch 2/100\n",
            "16/16 [==============================] - 0s 5ms/step - loss: 2.3774 - accuracy: 0.1890 - val_loss: 2.4748 - val_accuracy: 0.1500\n",
            "Epoch 3/100\n",
            "16/16 [==============================] - 0s 5ms/step - loss: 2.2972 - accuracy: 0.2060 - val_loss: 2.3963 - val_accuracy: 0.1750\n",
            "Epoch 4/100\n",
            "16/16 [==============================] - 0s 4ms/step - loss: 2.2226 - accuracy: 0.2250 - val_loss: 2.3225 - val_accuracy: 0.1850\n",
            "Epoch 5/100\n",
            "16/16 [==============================] - 0s 5ms/step - loss: 2.1525 - accuracy: 0.2430 - val_loss: 2.2528 - val_accuracy: 0.1950\n",
            "Epoch 6/100\n",
            "16/16 [==============================] - 0s 6ms/step - loss: 2.0859 - accuracy: 0.2540 - val_loss: 2.1863 - val_accuracy: 0.2100\n",
            "Epoch 7/100\n",
            "16/16 [==============================] - 0s 4ms/step - loss: 2.0236 - accuracy: 0.2730 - val_loss: 2.1225 - val_accuracy: 0.2250\n",
            "Epoch 8/100\n",
            "16/16 [==============================] - 0s 5ms/step - loss: 1.9636 - accuracy: 0.3000 - val_loss: 2.0598 - val_accuracy: 0.2400\n",
            "Epoch 9/100\n",
            "16/16 [==============================] - 0s 6ms/step - loss: 1.9053 - accuracy: 0.3270 - val_loss: 2.0010 - val_accuracy: 0.2650\n",
            "Epoch 10/100\n",
            "16/16 [==============================] - 0s 4ms/step - loss: 1.8509 - accuracy: 0.3610 - val_loss: 1.9435 - val_accuracy: 0.3000\n",
            "Epoch 11/100\n",
            "16/16 [==============================] - 0s 5ms/step - loss: 1.7970 - accuracy: 0.3870 - val_loss: 1.8885 - val_accuracy: 0.3300\n",
            "Epoch 12/100\n",
            "16/16 [==============================] - 0s 5ms/step - loss: 1.7473 - accuracy: 0.4310 - val_loss: 1.8344 - val_accuracy: 0.3850\n",
            "Epoch 13/100\n",
            "16/16 [==============================] - 0s 5ms/step - loss: 1.6982 - accuracy: 0.4660 - val_loss: 1.7845 - val_accuracy: 0.4050\n",
            "Epoch 14/100\n",
            "16/16 [==============================] - 0s 5ms/step - loss: 1.6513 - accuracy: 0.4920 - val_loss: 1.7358 - val_accuracy: 0.4450\n",
            "Epoch 15/100\n",
            "16/16 [==============================] - 0s 5ms/step - loss: 1.6073 - accuracy: 0.5280 - val_loss: 1.6889 - val_accuracy: 0.4650\n",
            "Epoch 16/100\n",
            "16/16 [==============================] - 0s 6ms/step - loss: 1.5639 - accuracy: 0.5620 - val_loss: 1.6443 - val_accuracy: 0.4900\n",
            "Epoch 17/100\n",
            "16/16 [==============================] - 0s 5ms/step - loss: 1.5233 - accuracy: 0.5850 - val_loss: 1.6005 - val_accuracy: 0.5250\n",
            "Epoch 18/100\n",
            "16/16 [==============================] - 0s 5ms/step - loss: 1.4837 - accuracy: 0.6080 - val_loss: 1.5592 - val_accuracy: 0.5600\n",
            "Epoch 19/100\n",
            "16/16 [==============================] - 0s 5ms/step - loss: 1.4462 - accuracy: 0.6370 - val_loss: 1.5185 - val_accuracy: 0.6050\n",
            "Epoch 20/100\n",
            "16/16 [==============================] - 0s 5ms/step - loss: 1.4100 - accuracy: 0.6560 - val_loss: 1.4812 - val_accuracy: 0.6150\n",
            "Epoch 21/100\n",
            "16/16 [==============================] - 0s 5ms/step - loss: 1.3755 - accuracy: 0.6730 - val_loss: 1.4448 - val_accuracy: 0.6250\n",
            "Epoch 22/100\n",
            "16/16 [==============================] - 0s 5ms/step - loss: 1.3426 - accuracy: 0.6800 - val_loss: 1.4099 - val_accuracy: 0.6300\n",
            "Epoch 23/100\n",
            "16/16 [==============================] - 0s 5ms/step - loss: 1.3107 - accuracy: 0.6970 - val_loss: 1.3760 - val_accuracy: 0.6650\n",
            "Epoch 24/100\n",
            "16/16 [==============================] - 0s 4ms/step - loss: 1.2806 - accuracy: 0.7120 - val_loss: 1.3437 - val_accuracy: 0.7000\n",
            "Epoch 25/100\n",
            "16/16 [==============================] - 0s 6ms/step - loss: 1.2514 - accuracy: 0.7170 - val_loss: 1.3137 - val_accuracy: 0.7150\n",
            "Epoch 26/100\n",
            "16/16 [==============================] - 0s 5ms/step - loss: 1.2237 - accuracy: 0.7220 - val_loss: 1.2832 - val_accuracy: 0.7200\n",
            "Epoch 27/100\n",
            "16/16 [==============================] - 0s 5ms/step - loss: 1.1974 - accuracy: 0.7270 - val_loss: 1.2550 - val_accuracy: 0.7300\n",
            "Epoch 28/100\n",
            "16/16 [==============================] - 0s 4ms/step - loss: 1.1716 - accuracy: 0.7380 - val_loss: 1.2282 - val_accuracy: 0.7350\n",
            "Epoch 29/100\n",
            "16/16 [==============================] - 0s 5ms/step - loss: 1.1476 - accuracy: 0.7490 - val_loss: 1.2027 - val_accuracy: 0.7350\n",
            "Epoch 30/100\n",
            "16/16 [==============================] - 0s 5ms/step - loss: 1.1239 - accuracy: 0.7570 - val_loss: 1.1777 - val_accuracy: 0.7450\n",
            "Epoch 31/100\n",
            "16/16 [==============================] - 0s 5ms/step - loss: 1.1015 - accuracy: 0.7670 - val_loss: 1.1544 - val_accuracy: 0.7500\n",
            "Epoch 32/100\n",
            "16/16 [==============================] - 0s 5ms/step - loss: 1.0800 - accuracy: 0.7720 - val_loss: 1.1309 - val_accuracy: 0.7400\n",
            "Epoch 33/100\n",
            "16/16 [==============================] - 0s 5ms/step - loss: 1.0596 - accuracy: 0.7790 - val_loss: 1.1089 - val_accuracy: 0.7500\n",
            "Epoch 34/100\n",
            "16/16 [==============================] - 0s 5ms/step - loss: 1.0396 - accuracy: 0.7810 - val_loss: 1.0875 - val_accuracy: 0.7450\n",
            "Epoch 35/100\n",
            "16/16 [==============================] - 0s 5ms/step - loss: 1.0204 - accuracy: 0.7860 - val_loss: 1.0669 - val_accuracy: 0.7550\n",
            "Epoch 36/100\n",
            "16/16 [==============================] - 0s 5ms/step - loss: 1.0021 - accuracy: 0.7900 - val_loss: 1.0471 - val_accuracy: 0.7650\n",
            "Epoch 37/100\n",
            "16/16 [==============================] - 0s 5ms/step - loss: 0.9846 - accuracy: 0.7920 - val_loss: 1.0288 - val_accuracy: 0.7800\n",
            "Epoch 38/100\n",
            "16/16 [==============================] - 0s 4ms/step - loss: 0.9679 - accuracy: 0.7980 - val_loss: 1.0107 - val_accuracy: 0.7800\n",
            "Epoch 39/100\n",
            "16/16 [==============================] - 0s 5ms/step - loss: 0.9513 - accuracy: 0.8040 - val_loss: 0.9934 - val_accuracy: 0.7850\n",
            "Epoch 40/100\n",
            "16/16 [==============================] - 0s 5ms/step - loss: 0.9356 - accuracy: 0.8060 - val_loss: 0.9764 - val_accuracy: 0.7850\n",
            "Epoch 41/100\n",
            "16/16 [==============================] - 0s 4ms/step - loss: 0.9205 - accuracy: 0.8130 - val_loss: 0.9604 - val_accuracy: 0.7950\n",
            "Epoch 42/100\n",
            "16/16 [==============================] - 0s 5ms/step - loss: 0.9060 - accuracy: 0.8170 - val_loss: 0.9448 - val_accuracy: 0.8050\n",
            "Epoch 43/100\n",
            "16/16 [==============================] - 0s 4ms/step - loss: 0.8921 - accuracy: 0.8180 - val_loss: 0.9295 - val_accuracy: 0.8100\n",
            "Epoch 44/100\n",
            "16/16 [==============================] - 0s 5ms/step - loss: 0.8785 - accuracy: 0.8260 - val_loss: 0.9154 - val_accuracy: 0.8200\n",
            "Epoch 45/100\n",
            "16/16 [==============================] - 0s 5ms/step - loss: 0.8654 - accuracy: 0.8300 - val_loss: 0.9018 - val_accuracy: 0.8200\n",
            "Epoch 46/100\n",
            "16/16 [==============================] - 0s 5ms/step - loss: 0.8529 - accuracy: 0.8330 - val_loss: 0.8877 - val_accuracy: 0.8300\n",
            "Epoch 47/100\n",
            "16/16 [==============================] - 0s 4ms/step - loss: 0.8406 - accuracy: 0.8370 - val_loss: 0.8745 - val_accuracy: 0.8250\n",
            "Epoch 48/100\n",
            "16/16 [==============================] - 0s 4ms/step - loss: 0.8289 - accuracy: 0.8370 - val_loss: 0.8620 - val_accuracy: 0.8350\n",
            "Epoch 49/100\n",
            "16/16 [==============================] - 0s 5ms/step - loss: 0.8174 - accuracy: 0.8380 - val_loss: 0.8502 - val_accuracy: 0.8400\n",
            "Epoch 50/100\n",
            "16/16 [==============================] - 0s 5ms/step - loss: 0.8065 - accuracy: 0.8390 - val_loss: 0.8381 - val_accuracy: 0.8450\n",
            "Epoch 51/100\n",
            "16/16 [==============================] - 0s 5ms/step - loss: 0.7957 - accuracy: 0.8440 - val_loss: 0.8266 - val_accuracy: 0.8450\n",
            "Epoch 52/100\n",
            "16/16 [==============================] - 0s 7ms/step - loss: 0.7854 - accuracy: 0.8440 - val_loss: 0.8157 - val_accuracy: 0.8500\n",
            "Epoch 53/100\n",
            "16/16 [==============================] - 0s 6ms/step - loss: 0.7754 - accuracy: 0.8440 - val_loss: 0.8050 - val_accuracy: 0.8550\n",
            "Epoch 54/100\n",
            "16/16 [==============================] - 0s 6ms/step - loss: 0.7660 - accuracy: 0.8470 - val_loss: 0.7946 - val_accuracy: 0.8550\n",
            "Epoch 55/100\n",
            "16/16 [==============================] - 0s 7ms/step - loss: 0.7564 - accuracy: 0.8500 - val_loss: 0.7848 - val_accuracy: 0.8550\n",
            "Epoch 56/100\n",
            "16/16 [==============================] - 0s 7ms/step - loss: 0.7473 - accuracy: 0.8520 - val_loss: 0.7750 - val_accuracy: 0.8600\n",
            "Epoch 57/100\n",
            "16/16 [==============================] - 0s 7ms/step - loss: 0.7385 - accuracy: 0.8540 - val_loss: 0.7654 - val_accuracy: 0.8550\n",
            "Epoch 58/100\n",
            "16/16 [==============================] - 0s 7ms/step - loss: 0.7300 - accuracy: 0.8540 - val_loss: 0.7563 - val_accuracy: 0.8600\n",
            "Epoch 59/100\n",
            "16/16 [==============================] - 0s 6ms/step - loss: 0.7217 - accuracy: 0.8550 - val_loss: 0.7473 - val_accuracy: 0.8700\n",
            "Epoch 60/100\n",
            "16/16 [==============================] - 0s 7ms/step - loss: 0.7136 - accuracy: 0.8530 - val_loss: 0.7388 - val_accuracy: 0.8700\n",
            "Epoch 61/100\n",
            "16/16 [==============================] - 0s 6ms/step - loss: 0.7058 - accuracy: 0.8550 - val_loss: 0.7302 - val_accuracy: 0.8700\n",
            "Epoch 62/100\n",
            "16/16 [==============================] - 0s 7ms/step - loss: 0.6983 - accuracy: 0.8550 - val_loss: 0.7221 - val_accuracy: 0.8750\n",
            "Epoch 63/100\n",
            "16/16 [==============================] - 0s 7ms/step - loss: 0.6909 - accuracy: 0.8560 - val_loss: 0.7140 - val_accuracy: 0.8750\n",
            "Epoch 64/100\n",
            "16/16 [==============================] - 0s 8ms/step - loss: 0.6838 - accuracy: 0.8580 - val_loss: 0.7064 - val_accuracy: 0.8750\n",
            "Epoch 65/100\n",
            "16/16 [==============================] - 0s 6ms/step - loss: 0.6768 - accuracy: 0.8570 - val_loss: 0.6993 - val_accuracy: 0.8750\n",
            "Epoch 66/100\n",
            "16/16 [==============================] - 0s 7ms/step - loss: 0.6700 - accuracy: 0.8580 - val_loss: 0.6917 - val_accuracy: 0.8750\n",
            "Epoch 67/100\n",
            "16/16 [==============================] - 0s 7ms/step - loss: 0.6634 - accuracy: 0.8590 - val_loss: 0.6848 - val_accuracy: 0.8750\n",
            "Epoch 68/100\n",
            "16/16 [==============================] - 0s 8ms/step - loss: 0.6569 - accuracy: 0.8590 - val_loss: 0.6779 - val_accuracy: 0.8750\n",
            "Epoch 69/100\n",
            "16/16 [==============================] - 0s 8ms/step - loss: 0.6506 - accuracy: 0.8590 - val_loss: 0.6714 - val_accuracy: 0.8800\n",
            "Epoch 70/100\n",
            "16/16 [==============================] - 0s 7ms/step - loss: 0.6444 - accuracy: 0.8600 - val_loss: 0.6652 - val_accuracy: 0.8800\n",
            "Epoch 71/100\n",
            "16/16 [==============================] - 0s 7ms/step - loss: 0.6386 - accuracy: 0.8620 - val_loss: 0.6587 - val_accuracy: 0.8800\n",
            "Epoch 72/100\n",
            "16/16 [==============================] - 0s 5ms/step - loss: 0.6327 - accuracy: 0.8620 - val_loss: 0.6521 - val_accuracy: 0.8800\n",
            "Epoch 73/100\n",
            "16/16 [==============================] - 0s 5ms/step - loss: 0.6269 - accuracy: 0.8640 - val_loss: 0.6463 - val_accuracy: 0.8800\n",
            "Epoch 74/100\n",
            "16/16 [==============================] - 0s 5ms/step - loss: 0.6215 - accuracy: 0.8660 - val_loss: 0.6402 - val_accuracy: 0.8800\n",
            "Epoch 75/100\n",
            "16/16 [==============================] - 0s 5ms/step - loss: 0.6159 - accuracy: 0.8660 - val_loss: 0.6343 - val_accuracy: 0.8850\n",
            "Epoch 76/100\n",
            "16/16 [==============================] - 0s 5ms/step - loss: 0.6108 - accuracy: 0.8660 - val_loss: 0.6288 - val_accuracy: 0.8850\n",
            "Epoch 77/100\n",
            "16/16 [==============================] - 0s 5ms/step - loss: 0.6055 - accuracy: 0.8670 - val_loss: 0.6232 - val_accuracy: 0.8800\n",
            "Epoch 78/100\n",
            "16/16 [==============================] - 0s 5ms/step - loss: 0.6007 - accuracy: 0.8680 - val_loss: 0.6180 - val_accuracy: 0.8800\n",
            "Epoch 79/100\n",
            "16/16 [==============================] - 0s 5ms/step - loss: 0.5957 - accuracy: 0.8700 - val_loss: 0.6130 - val_accuracy: 0.8800\n",
            "Epoch 80/100\n",
            "16/16 [==============================] - 0s 5ms/step - loss: 0.5910 - accuracy: 0.8700 - val_loss: 0.6076 - val_accuracy: 0.8850\n",
            "Epoch 81/100\n",
            "16/16 [==============================] - 0s 6ms/step - loss: 0.5861 - accuracy: 0.8700 - val_loss: 0.6028 - val_accuracy: 0.8850\n",
            "Epoch 82/100\n",
            "16/16 [==============================] - 0s 5ms/step - loss: 0.5814 - accuracy: 0.8700 - val_loss: 0.5979 - val_accuracy: 0.8850\n",
            "Epoch 83/100\n",
            "16/16 [==============================] - 0s 5ms/step - loss: 0.5771 - accuracy: 0.8700 - val_loss: 0.5929 - val_accuracy: 0.8900\n",
            "Epoch 84/100\n",
            "16/16 [==============================] - 0s 5ms/step - loss: 0.5726 - accuracy: 0.8720 - val_loss: 0.5885 - val_accuracy: 0.9000\n",
            "Epoch 85/100\n",
            "16/16 [==============================] - 0s 7ms/step - loss: 0.5683 - accuracy: 0.8730 - val_loss: 0.5839 - val_accuracy: 0.9000\n",
            "Epoch 86/100\n",
            "16/16 [==============================] - 0s 5ms/step - loss: 0.5641 - accuracy: 0.8740 - val_loss: 0.5795 - val_accuracy: 0.8950\n",
            "Epoch 87/100\n",
            "16/16 [==============================] - 0s 6ms/step - loss: 0.5600 - accuracy: 0.8740 - val_loss: 0.5751 - val_accuracy: 0.8950\n",
            "Epoch 88/100\n",
            "16/16 [==============================] - 0s 5ms/step - loss: 0.5560 - accuracy: 0.8730 - val_loss: 0.5712 - val_accuracy: 0.8950\n",
            "Epoch 89/100\n",
            "16/16 [==============================] - 0s 5ms/step - loss: 0.5519 - accuracy: 0.8730 - val_loss: 0.5669 - val_accuracy: 0.8900\n",
            "Epoch 90/100\n",
            "16/16 [==============================] - 0s 5ms/step - loss: 0.5482 - accuracy: 0.8740 - val_loss: 0.5630 - val_accuracy: 0.8950\n",
            "Epoch 91/100\n",
            "16/16 [==============================] - 0s 4ms/step - loss: 0.5442 - accuracy: 0.8740 - val_loss: 0.5585 - val_accuracy: 0.9000\n",
            "Epoch 92/100\n",
            "16/16 [==============================] - 0s 5ms/step - loss: 0.5406 - accuracy: 0.8740 - val_loss: 0.5545 - val_accuracy: 0.9000\n",
            "Epoch 93/100\n",
            "16/16 [==============================] - 0s 5ms/step - loss: 0.5369 - accuracy: 0.8740 - val_loss: 0.5510 - val_accuracy: 0.9000\n",
            "Epoch 94/100\n",
            "16/16 [==============================] - 0s 5ms/step - loss: 0.5333 - accuracy: 0.8740 - val_loss: 0.5475 - val_accuracy: 0.8950\n",
            "Epoch 95/100\n",
            "16/16 [==============================] - 0s 5ms/step - loss: 0.5298 - accuracy: 0.8740 - val_loss: 0.5435 - val_accuracy: 0.9000\n",
            "Epoch 96/100\n",
            "16/16 [==============================] - 0s 5ms/step - loss: 0.5264 - accuracy: 0.8750 - val_loss: 0.5399 - val_accuracy: 0.9000\n",
            "Epoch 97/100\n",
            "16/16 [==============================] - 0s 5ms/step - loss: 0.5231 - accuracy: 0.8760 - val_loss: 0.5363 - val_accuracy: 0.9000\n",
            "Epoch 98/100\n",
            "16/16 [==============================] - 0s 5ms/step - loss: 0.5196 - accuracy: 0.8770 - val_loss: 0.5328 - val_accuracy: 0.9000\n",
            "Epoch 99/100\n",
            "16/16 [==============================] - 0s 5ms/step - loss: 0.5164 - accuracy: 0.8770 - val_loss: 0.5293 - val_accuracy: 0.8950\n",
            "Epoch 100/100\n",
            "16/16 [==============================] - 0s 4ms/step - loss: 0.5132 - accuracy: 0.8770 - val_loss: 0.5263 - val_accuracy: 0.8950\n"
          ]
        }
      ],
      "source": [
        "MLP_model = model.fit(x_train, y_train,\n",
        "          epochs=100,\n",
        "          batch_size=64, validation_data=(x_test, y_test))"
      ]
    },
    {
      "cell_type": "code",
      "execution_count": 15,
      "metadata": {
        "colab": {
          "base_uri": "https://localhost:8080/",
          "height": 447
        },
        "id": "SveCNiLkisTF",
        "outputId": "2798ee16-1f6e-44a2-c6c5-ef5ef1c34b99"
      },
      "outputs": [
        {
          "data": {
            "text/plain": [
              "<matplotlib.legend.Legend at 0x7b906f9b7700>"
            ]
          },
          "execution_count": 15,
          "metadata": {},
          "output_type": "execute_result"
        },
        {
          "data": {
            "image/png": "[encoded data removed]",
            "text/plain": [
              "<Figure size 640x480 with 1 Axes>"
            ]
          },
          "metadata": {},
          "output_type": "display_data"
        }
      ],
      "source": [
        "# plot Loss\n",
        "plt.plot(MLP_model.history[\"loss\"]) # train loss\n",
        "plt.plot(MLP_model.history[\"val_loss\"]) # validation loss\n",
        "plt.legend([\"train_loss\", \"validation_loss\"])"
      ]
    },
    {
      "cell_type": "code",
      "execution_count": 16,
      "metadata": {
        "colab": {
          "base_uri": "https://localhost:8080/",
          "height": 447
        },
        "id": "Cx3VubunisVh",
        "outputId": "93fa6cd7-93fc-4577-9b19-cd58e64b617c"
      },
      "outputs": [
        {
          "data": {
            "text/plain": [
              "<matplotlib.legend.Legend at 0x7b906f4d7610>"
            ]
          },
          "execution_count": 16,
          "metadata": {},
          "output_type": "execute_result"
        },
        {
          "data": {
            "image/png": "[encoded data removed]",
            "text/plain": [
              "<Figure size 640x480 with 1 Axes>"
            ]
          },
          "metadata": {},
          "output_type": "display_data"
        }
      ],
      "source": [
        "# plot accuracy\n",
        "plt.plot(MLP_model.history[\"accuracy\"]) # train accuracy\n",
        "plt.plot(MLP_model.history[\"val_accuracy\"]) # validation accuracy\n",
        "plt.legend([\"train_accuracy\", \"validation_accuracy\"])"
      ]
    }
  ],
  "metadata": {
    "accelerator": "GPU",
    "colab": {
      "gpuType": "T4",
      "provenance": []
    },
    "kernelspec": {
      "display_name": "Python 3",
      "name": "python3"
    },
    "language_info": {
      "name": "python"
    }
  },
  "nbformat": 4,
  "nbformat_minor": 0
}
