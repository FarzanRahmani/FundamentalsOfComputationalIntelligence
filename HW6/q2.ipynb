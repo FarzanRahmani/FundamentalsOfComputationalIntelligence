{
 "cells": [
  {
   "cell_type": "markdown",
   "metadata": {},
   "source": [
    "### Import libraries"
   ]
  },
  {
   "cell_type": "code",
   "execution_count": 1,
   "metadata": {},
   "outputs": [],
   "source": [
    "import numpy as np"
   ]
  },
  {
   "cell_type": "markdown",
   "metadata": {},
   "source": [
    "### Define the target polynomials"
   ]
  },
  {
   "cell_type": "code",
   "execution_count": 2,
   "metadata": {},
   "outputs": [],
   "source": [
    "polynomials = [\n",
    "    lambda x: 2*x - 4,\n",
    "    lambda x: x**2 - 8*x + 4,\n",
    "    lambda x: 4*x**3 - 5*x**2 + x - 1,\n",
    "    lambda x: 186*x**3 - 7.22*x**2 + 15.5*x - 13.2,\n",
    "]"
   ]
  },
  {
   "cell_type": "markdown",
   "metadata": {},
   "source": [
    "### Define Representation Parameters"
   ]
  },
  {
   "cell_type": "code",
   "execution_count": 3,
   "metadata": {},
   "outputs": [],
   "source": [
    "# Number of bits before and after the floating point\n",
    "bits_before_fp = 3 # or more can be\n",
    "bits_after_fp = 6 # more or less depend on problem\n",
    "total_bits = bits_before_fp + bits_after_fp"
   ]
  },
  {
   "cell_type": "markdown",
   "metadata": {},
   "source": [
    "### Define useful functions "
   ]
  },
  {
   "cell_type": "code",
   "execution_count": 4,
   "metadata": {},
   "outputs": [],
   "source": [
    "def float_to_binary(solution):\n",
    "    # Convert the positive float solution to a binary bit string\n",
    "    if solution < 0:\n",
    "        raise ValueError(\"Only positive numbers are allowed.\")\n",
    "    binary_string = format(int(solution * (2 ** bits_after_fp)), f'0{total_bits}b')\n",
    "    return '0' + binary_string[:bits_before_fp] + '.' + binary_string[bits_before_fp:]\n",
    "\n",
    "def binary_to_float(binary_string):\n",
    "    # Convert the binary bit string to a float\n",
    "    integer_part, fractional_part = binary_string[1:].split('.')\n",
    "    return int(integer_part, 2) + int(fractional_part, 2) / (2 ** bits_after_fp)\n",
    "\n",
    "def fitness(solution, polynomial):\n",
    "    # Fitness function: evaluate how close the solution is to being a root\n",
    "    # return abs(polynomial(solution))\n",
    "    epsilon = 0.000001 # for numerical stability\n",
    "    return 1 / ( abs(polynomial(solution)) + epsilon )\n",
    "\n",
    "def initialize_population(population_size):\n",
    "    # Initialize a population of potential solutions as binary bit strings (only positive floats)\n",
    "    return [float_to_binary(np.random.uniform(0, 10)) for _ in range(population_size)]\n",
    "\n",
    "def select_parents(population, fitness_scores):\n",
    "    # Select two parents based on their fitness scores\n",
    "    probabilities = fitness_scores / fitness_scores.sum()\n",
    "    parents_indices = np.random.choice(len(population), size=2, p=probabilities)\n",
    "    return [population[parents_indices[0]], population[parents_indices[1]]]\n",
    "\n",
    "def crossover(parent1, parent2):\n",
    "    # 00000.0000\n",
    "    # Two-point crossover operation on binary bit strings\n",
    "    crossover_point1 = np.random.randint(1, total_bits)\n",
    "    crossover_point2 = np.random.randint(crossover_point1, total_bits+1)\n",
    "    \n",
    "    # Remove dot before crossover\n",
    "    parent1_without_dot = parent1[:bits_before_fp+1] + parent1[bits_before_fp+2:]\n",
    "    parent2_without_dot = parent2[:bits_before_fp+1] + parent2[bits_before_fp+2:]\n",
    "\n",
    "    child_without_dot = (\n",
    "        parent1_without_dot[:crossover_point1] +\n",
    "        parent2_without_dot[crossover_point1:crossover_point2] +\n",
    "        parent1_without_dot[crossover_point2:]\n",
    "    )\n",
    "\n",
    "    # Add dot back to the child\n",
    "    child = child_without_dot[:bits_before_fp+1] + '.' + child_without_dot[bits_before_fp+1:]\n",
    "\n",
    "    return child\n",
    "\n",
    "def mutate(solution, mutation_rate):\n",
    "    # Bit flip mutation with mutation probability\n",
    "    solution_without_dot = solution[:bits_before_fp+1] + solution[bits_before_fp+2:]\n",
    "    mutated_solution_without_dot = ''.join([bit if np.random.rand() > mutation_rate else '1' if bit == '0' else '0' for bit in solution_without_dot])\n",
    "    mutated_solution_with_dot = mutated_solution_without_dot[:bits_before_fp+1] + '.' + mutated_solution_without_dot[bits_before_fp+1:]\n",
    "\n",
    "    mutated_solution_with_dot = '0' + mutated_solution_with_dot[1:]\n",
    "    return mutated_solution_with_dot"
   ]
  },
  {
   "cell_type": "markdown",
   "metadata": {},
   "source": [
    "### Genetic algorithm implementation"
   ]
  },
  {
   "cell_type": "code",
   "execution_count": 5,
   "metadata": {},
   "outputs": [],
   "source": [
    "def genetic_algorithm(polynomial, population_size=100, generations=1000, mutation_rate=0.01):\n",
    "    population = initialize_population(population_size)\n",
    "\n",
    "    found_root = False\n",
    "    for generation in range(generations):\n",
    "        float_population = [binary_to_float(solution) for solution in population]\n",
    "        fitness_scores = np.array([fitness(solution, polynomial) for solution in float_population])\n",
    "\n",
    "        # Check if any solution is a good enough root\n",
    "        best_solution = population[np.argmin(fitness_scores)]\n",
    "        if fitness(binary_to_float(best_solution), polynomial) >= 100: # 0.01 difference from orginal root\n",
    "            print(f\"Root found in generation {generation}: {binary_to_float(best_solution)}\")\n",
    "            found_root = True\n",
    "            print(\"Value of polynomial with this solution(error)\", polynomial(binary_to_float(best_solution)))\n",
    "            break\n",
    "\n",
    "        parents = np.array([select_parents(population, fitness_scores) for _ in range(population_size // 2)])\n",
    "\n",
    "        # Crossover and mutation\n",
    "        children = np.array([crossover(parent1, parent2) for parent1, parent2 in parents])\n",
    "        children = np.array([mutate(child, mutation_rate) for child in children])\n",
    "        \n",
    "        # population[:population_size // 2] = parents.flatten()\n",
    "        # population[population_size // 2:] = children # updated population\n",
    "        # -------------\n",
    "        # Sort parents based on fitness\n",
    "        sorted_indices = np.argsort(fitness_scores) # small to big\n",
    "        tmp = np.array(population)\n",
    "        sorted_parents = tmp[sorted_indices]\n",
    "\n",
    "        # Choose the top 50 parents with better fitness\n",
    "        selected_parents = sorted_parents[population_size // 2:]\n",
    "\n",
    "        # Flatten the selected parents to update the population\n",
    "        population[:population_size // 2] = selected_parents.flatten()\n",
    "        population[population_size // 2:] = children  # updated population\n",
    "\n",
    "    if (not found_root): # No exact root found.\n",
    "        best_answer_found = population[np.argmin(fitness_scores)]\n",
    "        print(\"Best solution in 1000 generations:\", binary_to_float(best_answer_found))\n",
    "        print(\"Fitness Score (1/error): \", np.argmin(fitness_scores))\n",
    "        print(\"Value of polynomial with this solution(error)\", polynomial(binary_to_float(best_answer_found)))\n"
   ]
  },
  {
   "cell_type": "markdown",
   "metadata": {},
   "source": [
    "### Test the genetic algorithm on each polynomial"
   ]
  },
  {
   "cell_type": "code",
   "execution_count": 8,
   "metadata": {},
   "outputs": [
    {
     "name": "stdout",
     "output_type": "stream",
     "text": [
      "\n",
      "Testing Polynomial 1:\n",
      "Best solution in 1000 generations: 2.0\n",
      "Fitness Score (1/error):  88\n",
      "Value of polynomial with this solution(error) 0.0\n",
      "\n",
      "Testing Polynomial 2:\n",
      "Best solution in 1000 generations: 7.46875\n",
      "Fitness Score (1/error):  55\n",
      "Value of polynomial with this solution(error) 0.0322265625\n",
      "\n",
      "Testing Polynomial 3:\n",
      "Best solution in 1000 generations: 1.21875\n",
      "Fitness Score (1/error):  58\n",
      "Value of polynomial with this solution(error) 0.0330810546875\n",
      "\n",
      "Testing Polynomial 4:\n",
      "Best solution in 1000 generations: 0.359375\n",
      "Fitness Score (1/error):  70\n",
      "Value of polynomial with this solution(error) 0.07074310302734332\n"
     ]
    }
   ],
   "source": [
    "for idx, polynomial in enumerate(polynomials):\n",
    "    print(f\"\\nTesting Polynomial {idx + 1}:\")\n",
    "    genetic_algorithm(polynomial)"
   ]
  },
  {
   "cell_type": "markdown",
   "metadata": {},
   "source": [
    "### Real answers"
   ]
  },
  {
   "cell_type": "code",
   "execution_count": 7,
   "metadata": {},
   "outputs": [
    {
     "name": "stdout",
     "output_type": "stream",
     "text": [
      "Ploynomial 1 [2.]\n",
      "Ploynomial 2 [7.46410162 0.53589838]\n",
      "Ploynomial 3 [1.21372896+0.j         0.01813552+0.45348417j 0.01813552-0.45348417j]\n",
      "Ploynomial 4 [-0.15984864+0.4152082j -0.15984864-0.4152082j  0.35851449+0.j       ]\n"
     ]
    }
   ],
   "source": [
    "coeff = [2, -4]\n",
    "print(\"Ploynomial 1\", np.roots(coeff))\n",
    "coeff = [1, -8, +4]\n",
    "print(\"Ploynomial 2\", np.roots(coeff))\n",
    "coeff = [4, -5, +1, -1]\n",
    "print(\"Ploynomial 3\", np.roots(coeff))\n",
    "coeff = [186, -7.22, 15.5, -13.2]\n",
    "print(\"Ploynomial 4\", np.roots(coeff))"
   ]
  }
 ],
 "metadata": {
  "kernelspec": {
   "display_name": "base",
   "language": "python",
   "name": "python3"
  },
  "language_info": {
   "codemirror_mode": {
    "name": "ipython",
    "version": 3
   },
   "file_extension": ".py",
   "mimetype": "text/x-python",
   "name": "python",
   "nbconvert_exporter": "python",
   "pygments_lexer": "ipython3",
   "version": "3.8.3"
  }
 },
 "nbformat": 4,
 "nbformat_minor": 2
}
